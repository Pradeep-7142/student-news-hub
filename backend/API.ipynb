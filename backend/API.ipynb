{
 "cells": [
  {
   "cell_type": "code",
   "execution_count": null,
   "metadata": {},
   "outputs": [],
   "source": [
    "import requests\n",
    "from bs4 import BeautifulSoup\n",
    "\n",
    "def fetch_website_text(url, api_key):\n",
    "    headers = {\n",
    "        \"Authorization\": f\"Bearer {api_key}\",  # If API key is required for authentication\n",
    "        \"User-Agent\": \"Mozilla/5.0\"\n",
    "    }\n",
    "\n",
    "    try:\n",
    "        response = requests.get(url, headers=headers)\n",
    "        response.raise_for_status()  # Raise an error for HTTP errors (4xx, 5xx)\n",
    "\n",
    "        soup = BeautifulSoup(response.text, \"html.parser\")\n",
    "        text = soup.get_text(separator=\"\\n\", strip=True)\n",
    "        \n",
    "        return text\n",
    "\n",
    "    except requests.exceptions.RequestException as e:\n",
    "        return f\"Error fetching website: {e}\"\n",
    "\n",
    "# Example usage\n",
    "url = \"https://timesofindia.indiatimes.com/business/india-business/income-tax-slabs-2025-26-live-updates-budget-2025-new-tax-regime-vs-old-regime-tax-rates-standard-deduction-section-80c-latest-income-tax-slab-changes-tax-announcements/liveblog/117809100.cms\"  # Replace with the actual URL\n",
    "api_key = \"0fb3b0668485449481bd7e773d4a1600\"  # Replace with your actual API key if needed\n",
    "\n",
    "text_content = fetch_website_text(url, api_key)\n",
    "print(text_content)\n"
   ]
  }
 ],
 "metadata": {
  "kernelspec": {
   "display_name": "my_env",
   "language": "python",
   "name": "python3"
  },
  "language_info": {
   "codemirror_mode": {
    "name": "ipython",
    "version": 3
   },
   "file_extension": ".py",
   "mimetype": "text/x-python",
   "name": "python",
   "nbconvert_exporter": "python",
   "pygments_lexer": "ipython3",
   "version": "3.13.0"
  }
 },
 "nbformat": 4,
 "nbformat_minor": 2
}
